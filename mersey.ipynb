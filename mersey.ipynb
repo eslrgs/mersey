{
 "cells": [
  {
   "cell_type": "markdown",
   "id": "sapphire-nursery",
   "metadata": {},
   "source": [
    "## Mersey data (Keavney et al. 2021)\n",
    "\n",
    "____\n",
    "- Press cmd + enter or shift + cmd to run a cell. \n",
    "- Run cells in order."
   ]
  },
  {
   "cell_type": "markdown",
   "id": "beginning-grenada",
   "metadata": {},
   "source": [
    "### Run this cell"
   ]
  },
  {
   "cell_type": "code",
   "execution_count": null,
   "id": "shaped-incidence",
   "metadata": {},
   "outputs": [],
   "source": [
    "import pandas as pd # imports packages\n",
    "import numpy as np\n",
    "import seaborn as sns\n",
    "import matplotlib.pyplot as plt\n",
    "from scipy import stats\n",
    "\n",
    "%config InlineBackend.figure_formats = ['svg'] # make outputs nicer\n",
    "\n",
    "fibres = pd.read_excel('KS Euan.xlsx', sheet_name = 'Fibres', header = 1) # loads sheet\n",
    "frags = pd.read_excel('KS Euan.xlsx', sheet_name = 'Fragments', header = 1) # loads sheet\n",
    "beads = pd.read_excel('KS Euan.xlsx', sheet_name = 'Beads', header = 1) # loads sheet"
   ]
  },
  {
   "cell_type": "markdown",
   "id": "disabled-revelation",
   "metadata": {},
   "source": [
    "### ** Edit and run this cell **"
   ]
  },
  {
   "cell_type": "code",
   "execution_count": null,
   "id": "controlled-diagnosis",
   "metadata": {},
   "outputs": [],
   "source": [
    "data_one = fibres['Liverpool Bay']  # microplastic_type['location'] e.g. fibres['Liverpool Bay']\n",
    "data_two = fibres['River Alt'] # microplastic_type['location'] e.g. frags['River Alt']\n",
    "\n",
    "microplastic_type = 'Fibre' # sets microplastic type for x-axis label\n",
    "\n",
    "file_title = 'bay_estuary'  # sets file title"
   ]
  },
  {
   "cell_type": "markdown",
   "id": "favorite-mountain",
   "metadata": {},
   "source": [
    "### Run this cell"
   ]
  },
  {
   "cell_type": "code",
   "execution_count": null,
   "id": "lasting-dominant",
   "metadata": {},
   "outputs": [],
   "source": [
    "print(stats.kstest(data_one.dropna(), data_two.dropna())) # prints KS test result\n",
    "\n",
    "p_val = stats.kstest(data_one.dropna(), data_two.dropna())[1] # saves p-value\n",
    "\n",
    "one_length, two_length = len(data_one.dropna()), len(data_two.dropna()) # gets length of data\n",
    "\n",
    "fig, ax = plt.subplots(figsize = (7, 4)) # makes figure\n",
    "\n",
    "sns.kdeplot(data_one.dropna(), label = f'{data_one.name}\\nn = {one_length}', \n",
    "            color = 'tab:red', shade = True, ax = ax) # plot data 1\n",
    "                                                     \n",
    "sns.kdeplot(data_two.dropna(), label = f'{data_two.name}\\nn = {two_length}', \n",
    "            color = 'tab:blue', shade = True, ax = ax) # plot data 2\n",
    "\n",
    "plt.legend()\n",
    "plt.xlabel(f'{microplastic_type} size (mm)')\n",
    "plt.xlim(left = 0)\n",
    "plt.title(f'KS test p-value = {round(p_val, 4)}', fontsize = 14)\n",
    "\n",
    "plt.savefig('{}.jpg'.format(file_title), dpi = 400) # save fig"
   ]
  },
  {
   "cell_type": "code",
   "execution_count": null,
   "id": "false-blake",
   "metadata": {},
   "outputs": [],
   "source": []
  }
 ],
 "metadata": {
  "kernelspec": {
   "display_name": "general",
   "language": "python",
   "name": "general"
  },
  "language_info": {
   "codemirror_mode": {
    "name": "ipython",
    "version": 3
   },
   "file_extension": ".py",
   "mimetype": "text/x-python",
   "name": "python",
   "nbconvert_exporter": "python",
   "pygments_lexer": "ipython3",
   "version": "3.7.7"
  }
 },
 "nbformat": 4,
 "nbformat_minor": 5
}
